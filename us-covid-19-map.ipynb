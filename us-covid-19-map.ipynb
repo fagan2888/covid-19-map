{
 "cells": [
  {
   "cell_type": "code",
   "execution_count": 1,
   "metadata": {},
   "outputs": [],
   "source": [
    "import pandas as pd             # data package\n",
    "import matplotlib.pyplot as plt # graphics \n",
    "import datetime as dt\n",
    "import numpy as np\n",
    "\n",
    "# these are new \n",
    "import requests, io             # internet and input tools  \n",
    "import zipfile as zf            # zip file tools \n",
    "import shutil                   # file management tools \n",
    "import os                       # operating system tools (check files)\n",
    "\n",
    "from census import Census # This is new...\n",
    "\n",
    "import geopandas as gpd # this is the main geopandas \n",
    "from shapely.geometry import Point, Polygon # also needed\n",
    "\n",
    "import pyarrow as pa\n",
    "import pyarrow.parquet as pq\n",
    "\n",
    "##########################\n",
    "# Then this stuff below allows us to make a nice inset\n",
    "\n",
    "\n",
    "from mpl_toolkits.axes_grid1.inset_locator import zoomed_inset_axes\n",
    "from mpl_toolkits.axes_grid1.inset_locator import mark_inset"
   ]
  },
  {
   "cell_type": "markdown",
   "metadata": {},
   "source": [
    "### Overview of code\n",
    "\n",
    "Thansk to the [@nytimes](https://github.com/nytimes/covid-19-data). This proved to be very easy given my existing code associated with my project on the [trade war](https://github.com/mwaugh0328/consumption_and_tradewar). The code proceeds in several steps:\n",
    "\n",
    "1. Grabs the nytimes data. Their repository provides detailed explanations regarding geography etc. NYC in particular is treated as one region, not by county. \n",
    "\n",
    "\n",
    "2. Download shapefiles from the US census. This only needs to be done once. \n",
    "\n",
    "\n",
    "3. Merge nytimes data with the geopandas dataframe, add in US Census data (currently just population), then some simple cleaning to prepare for maping.\n",
    "\n",
    "\n",
    "4. Create a static map using geopandas. This will generate a ``.png`` file. If you wanted to create a movie. You could do this for everydate and then piece the ``.png`` files together to create one.\n",
    "\n",
    "\n",
    "5. Create a live/html map with hover tool and zoom using Bokeh's packages. The output will be an .html file with can be posted on a website etc. It is currently posted at [https://mwaugh0328.github.io/covid-19-map/us_covid_map.html](https://mwaugh0328.github.io/covid-19-map/us_covid_map.html)"
   ]
  },
  {
   "cell_type": "markdown",
   "metadata": {},
   "source": [
    "---\n",
    "\n",
    "### Step \\#1. Grab data from [nytimes repository](https://github.com/nytimes/covid-19-data)\n",
    "\n",
    "Thank you for organizing this. It's very simple..."
   ]
  },
  {
   "cell_type": "code",
   "execution_count": 2,
   "metadata": {},
   "outputs": [],
   "source": [
    "df = pd.read_csv(\"https://github.com/nytimes/covid-19-data/raw/master/us-counties.csv\")"
   ]
  },
  {
   "cell_type": "code",
   "execution_count": 3,
   "metadata": {},
   "outputs": [],
   "source": [
    "# For NYC we will assing it the Mannhatten fips code\n",
    "# Then below to the other new york city counties we \n",
    "# assing them the same case and death data as New York city as a whole\n",
    "\n",
    "nyc = df.county == \"New York City\"\n",
    "df.loc[nyc,\"fips\"] = 36061"
   ]
  },
  {
   "cell_type": "code",
   "execution_count": 4,
   "metadata": {},
   "outputs": [],
   "source": [
    "# Convert the date to a datetime object\n",
    "df[\"date\"] = pd.to_datetime(df[\"date\"], format = \"%Y-%m-%d\")"
   ]
  },
  {
   "cell_type": "code",
   "execution_count": 5,
   "metadata": {},
   "outputs": [],
   "source": [
    "latest_date = df.date.max()"
   ]
  },
  {
   "cell_type": "code",
   "execution_count": 6,
   "metadata": {},
   "outputs": [],
   "source": [
    "latest_date = latest_date.strftime(\"%m/%d/%Y\")"
   ]
  },
  {
   "cell_type": "code",
   "execution_count": 7,
   "metadata": {},
   "outputs": [],
   "source": [
    "df.set_index(\"date\", inplace = True)"
   ]
  },
  {
   "cell_type": "code",
   "execution_count": 8,
   "metadata": {},
   "outputs": [],
   "source": [
    "dfall = df.loc[latest_date].copy()"
   ]
  },
  {
   "cell_type": "markdown",
   "metadata": {},
   "source": [
    "**Important data note** The nytimes dataset reports **cumulative** cases, not the number reported each day. The very first version of this code messed this up. Now it is correct."
   ]
  },
  {
   "cell_type": "code",
   "execution_count": 9,
   "metadata": {},
   "outputs": [
    {
     "data": {
      "text/html": [
       "<div>\n",
       "<style scoped>\n",
       "    .dataframe tbody tr th:only-of-type {\n",
       "        vertical-align: middle;\n",
       "    }\n",
       "\n",
       "    .dataframe tbody tr th {\n",
       "        vertical-align: top;\n",
       "    }\n",
       "\n",
       "    .dataframe thead th {\n",
       "        text-align: right;\n",
       "    }\n",
       "</style>\n",
       "<table border=\"1\" class=\"dataframe\">\n",
       "  <thead>\n",
       "    <tr style=\"text-align: right;\">\n",
       "      <th></th>\n",
       "      <th>county</th>\n",
       "      <th>state</th>\n",
       "      <th>fips</th>\n",
       "      <th>cases</th>\n",
       "      <th>deaths</th>\n",
       "    </tr>\n",
       "    <tr>\n",
       "      <th>date</th>\n",
       "      <th></th>\n",
       "      <th></th>\n",
       "      <th></th>\n",
       "      <th></th>\n",
       "      <th></th>\n",
       "    </tr>\n",
       "  </thead>\n",
       "  <tbody>\n",
       "    <tr>\n",
       "      <td>2020-04-08</td>\n",
       "      <td>New York City</td>\n",
       "      <td>New York</td>\n",
       "      <td>36061.0</td>\n",
       "      <td>81803</td>\n",
       "      <td>4571</td>\n",
       "    </tr>\n",
       "  </tbody>\n",
       "</table>\n",
       "</div>"
      ],
      "text/plain": [
       "                   county     state     fips  cases  deaths\n",
       "date                                                       \n",
       "2020-04-08  New York City  New York  36061.0  81803    4571"
      ]
     },
     "execution_count": 9,
     "metadata": {},
     "output_type": "execute_result"
    }
   ],
   "source": [
    "dfall[dfall.county == \"New York City\"]"
   ]
  },
  {
   "cell_type": "code",
   "execution_count": 10,
   "metadata": {},
   "outputs": [
    {
     "name": "stdout",
     "output_type": "stream",
     "text": [
      "Total US Covid-19 Cases 429283 as of 04/08/2020\n"
     ]
    }
   ],
   "source": [
    "total = dfall.cases.sum()\n",
    "\n",
    "print(\"Total US Covid-19 Cases\", total, \"as of\", latest_date)"
   ]
  },
  {
   "cell_type": "code",
   "execution_count": 11,
   "metadata": {},
   "outputs": [
    {
     "name": "stdout",
     "output_type": "stream",
     "text": [
      "Total US Covid-19 Deaths 14803 as of 04/08/2020\n"
     ]
    }
   ],
   "source": [
    "total_deaths = dfall.deaths.sum()\n",
    "\n",
    "print(\"Total US Covid-19 Deaths\", total_deaths, \"as of\", latest_date)"
   ]
  },
  {
   "cell_type": "code",
   "execution_count": 14,
   "metadata": {
    "scrolled": true
   },
   "outputs": [
    {
     "data": {
      "text/html": [
       "<div>\n",
       "<style scoped>\n",
       "    .dataframe tbody tr th:only-of-type {\n",
       "        vertical-align: middle;\n",
       "    }\n",
       "\n",
       "    .dataframe tbody tr th {\n",
       "        vertical-align: top;\n",
       "    }\n",
       "\n",
       "    .dataframe thead th {\n",
       "        text-align: right;\n",
       "    }\n",
       "</style>\n",
       "<table border=\"1\" class=\"dataframe\">\n",
       "  <thead>\n",
       "    <tr style=\"text-align: right;\">\n",
       "      <th></th>\n",
       "      <th>county</th>\n",
       "      <th>state</th>\n",
       "      <th>fips</th>\n",
       "      <th>cases</th>\n",
       "      <th>deaths</th>\n",
       "    </tr>\n",
       "    <tr>\n",
       "      <th>date</th>\n",
       "      <th></th>\n",
       "      <th></th>\n",
       "      <th></th>\n",
       "      <th></th>\n",
       "      <th></th>\n",
       "    </tr>\n",
       "  </thead>\n",
       "  <tbody>\n",
       "    <tr>\n",
       "      <td>2020-04-08</td>\n",
       "      <td>New York City</td>\n",
       "      <td>New York</td>\n",
       "      <td>36061.0</td>\n",
       "      <td>81803</td>\n",
       "      <td>4571</td>\n",
       "    </tr>\n",
       "  </tbody>\n",
       "</table>\n",
       "</div>"
      ],
      "text/plain": [
       "                   county     state     fips  cases  deaths\n",
       "date                                                       \n",
       "2020-04-08  New York City  New York  36061.0  81803    4571"
      ]
     },
     "execution_count": 14,
     "metadata": {},
     "output_type": "execute_result"
    }
   ],
   "source": [
    "dfall[dfall[\"fips\"] == 36061]"
   ]
  },
  {
   "cell_type": "code",
   "execution_count": 13,
   "metadata": {},
   "outputs": [],
   "source": [
    "dfall.reset_index(inplace = True)\n",
    "\n",
    "indexnyc = dfall[dfall['county'] == \"New York\"].index\n",
    " \n",
    "# Delete these row indexes from dataFrame\n",
    "dfall.drop(indexnyc, inplace=True)\n",
    "\n",
    "dfall.set_index([\"date\"], inplace = True)"
   ]
  },
  {
   "cell_type": "markdown",
   "metadata": {},
   "source": [
    "---\n",
    "\n",
    "###  Step \\#2. Get US County and State, Shapefiles\n",
    "\n",
    "The next couple of cells download the requisite shapefiles from the US census. They are unzipped in a folder called shapefiles and then county. So they are assuming some structure behind your folder setup. "
   ]
  },
  {
   "cell_type": "code",
   "execution_count": 12,
   "metadata": {},
   "outputs": [
    {
     "name": "stdout",
     "output_type": "stream",
     "text": [
      "\n",
      "**********************************************************************************\n",
      "Downloading Shape files\n",
      "\n"
     ]
    }
   ],
   "source": [
    "print(\"\")\n",
    "print(\"**********************************************************************************\")\n",
    "print(\"Downloading Shape files\")\n",
    "print(\"\")\n",
    "\n",
    "cwd = os.getcwd()\n",
    "\n",
    "county_url = \"https://www2.census.gov/geo/tiger/TIGER2017/COUNTY/tl_2017_us_county.zip\"\n",
    "    \n",
    "r = requests.get(county_url ) \n",
    "\n",
    "county_shapefile = zf.ZipFile(io.BytesIO(r.content)) \n",
    "\n",
    "county_shapefile.extractall(path = cwd + \"\\\\shapefiles\\\\county\")\n",
    "\n",
    "del r, county_shapefile"
   ]
  },
  {
   "cell_type": "code",
   "execution_count": 13,
   "metadata": {},
   "outputs": [
    {
     "name": "stdout",
     "output_type": "stream",
     "text": [
      "\n",
      "**********************************************************************************\n",
      "Downloading Shape files\n",
      "\n"
     ]
    }
   ],
   "source": [
    "print(\"\")\n",
    "print(\"**********************************************************************************\")\n",
    "print(\"Downloading Shape files\")\n",
    "print(\"\")\n",
    "\n",
    "state_url = \"https://www2.census.gov/geo/tiger/TIGER2017/STATE/tl_2017_us_state.zip\"\n",
    "    \n",
    "r = requests.get(state_url) \n",
    "\n",
    "state_shapefile = zf.ZipFile(io.BytesIO(r.content)) \n",
    "\n",
    "state_shapefile.extractall(path = cwd + \"\\\\shapefiles\\\\state\")\n",
    "\n",
    "del r, state_shapefile"
   ]
  },
  {
   "cell_type": "markdown",
   "metadata": {},
   "source": [
    "This will fix the great lakes issue. I found a shapefile with lakes of the world"
   ]
  },
  {
   "cell_type": "code",
   "execution_count": 15,
   "metadata": {},
   "outputs": [
    {
     "name": "stdout",
     "output_type": "stream",
     "text": [
      "\n",
      "**********************************************************************************\n",
      "Downloading Shape files\n",
      "\n"
     ]
    }
   ],
   "source": [
    "print(\"\")\n",
    "print(\"**********************************************************************************\")\n",
    "print(\"Downloading Shape files\")\n",
    "print(\"\")\n",
    "\n",
    "cwd = os.getcwd()\n",
    "\n",
    "county_url = \"https://www.naturalearthdata.com/http//www.naturalearthdata.com/download/10m/physical/ne_10m_lakes.zip\"\n",
    "    \n",
    "r = requests.get(county_url ) \n",
    "\n",
    "lake_shapefile = zf.ZipFile(io.BytesIO(r.content)) \n",
    "\n",
    "lake_shapefile.extractall(path = cwd + \"\\\\shapefiles\\\\lake\")\n",
    "\n",
    "del r, lake_shapefile"
   ]
  },
  {
   "cell_type": "code",
   "execution_count": 81,
   "metadata": {},
   "outputs": [
    {
     "name": "stdout",
     "output_type": "stream",
     "text": [
      "\n",
      "**********************************************************************************\n",
      "Downloading Shape files\n",
      "\n"
     ]
    }
   ],
   "source": [
    "print(\"\")\n",
    "print(\"**********************************************************************************\")\n",
    "print(\"Downloading Shape files\")\n",
    "print(\"\")\n",
    "\n",
    "cwd = os.getcwd()\n",
    "\n",
    "county_url = \"https://www.naturalearthdata.com/http//www.naturalearthdata.com/download/50m/physical/ne_50m_land.zip\"\n",
    "    \n",
    "r = requests.get(county_url ) \n",
    "\n",
    "land_shapefile = zf.ZipFile(io.BytesIO(r.content)) \n",
    "\n",
    "land_shapefile.extractall(path = cwd + \"\\\\shapefiles\\\\land\")\n",
    "\n",
    "del r, land_shapefile"
   ]
  },
  {
   "cell_type": "code",
   "execution_count": 15,
   "metadata": {},
   "outputs": [],
   "source": [
    "cwd = os.getcwd()\n",
    "\n",
    "county_shape = cwd + \"\\\\shapefiles\\\\lake\\\\ne_10m_lakes.shx\"\n",
    "\n",
    "lake_map = gpd.read_file(county_shape)\n",
    "\n",
    "lake_map = lake_map.to_crs({'init': 'epsg:3395'})"
   ]
  },
  {
   "cell_type": "code",
   "execution_count": 16,
   "metadata": {},
   "outputs": [],
   "source": [
    "cwd = os.getcwd()\n",
    "\n",
    "county_shape = cwd + \"\\\\shapefiles\\\\land\\\\ne_50m_land.shx\"\n",
    "\n",
    "land_map = gpd.read_file(county_shape)\n",
    "\n",
    "land_map = land_map.to_crs({'init': 'epsg:3395'})\n",
    "\n",
    "land_map = land_map.iloc[0:1200]"
   ]
  },
  {
   "cell_type": "code",
   "execution_count": 17,
   "metadata": {},
   "outputs": [],
   "source": [
    "cwd = os.getcwd()\n",
    "\n",
    "county_shape = cwd + \"\\\\shapefiles\\\\county\\\\tl_2017_us_county.shx\"\n",
    "\n",
    "us_map = gpd.read_file(county_shape)\n",
    "\n",
    "us_map = us_map.to_crs({'init': 'epsg:3395'})"
   ]
  },
  {
   "cell_type": "code",
   "execution_count": 18,
   "metadata": {},
   "outputs": [],
   "source": [
    "us_map[\"geometry\"] = us_map[\"geometry\"].simplify(200)\n",
    "# This was important. The geometry in the tigerline file si\n",
    "# too fine, orginal map was 350mb. simply basicly simplifies the geometry,\n",
    "# making the map take up less memory and load faster. Still not sure\n",
    "# what the number exactly means."
   ]
  },
  {
   "cell_type": "code",
   "execution_count": 19,
   "metadata": {},
   "outputs": [],
   "source": [
    "us_map[\"area_fips\"] = (us_map.STATEFP.astype(str) + us_map.COUNTYFP.astype(str)).astype(int)"
   ]
  },
  {
   "cell_type": "markdown",
   "metadata": {},
   "source": [
    "---\n",
    "\n",
    "###  Step \\#3 Merge and Clean\n",
    "\n",
    "The next couple of cells download the requisite shapefiles from the US census. They are unzipped in a folder called shapefiles and then county. So they are assuming some structure behind your folder setup. "
   ]
  },
  {
   "cell_type": "code",
   "execution_count": 20,
   "metadata": {},
   "outputs": [],
   "source": [
    "us_map = us_map.merge(dfall, left_on='area_fips',\n",
    "                      right_on = \"fips\", how = \"left\", indicator = True)"
   ]
  },
  {
   "cell_type": "markdown",
   "metadata": {},
   "source": [
    "The cell below fills in the NYC region with the NYC values. So in the hover map, when you hover over say Brookly, it will show the value for the NYC region. I then added a data note column that will inform the reader of this."
   ]
  },
  {
   "cell_type": "code",
   "execution_count": 21,
   "metadata": {
    "scrolled": false
   },
   "outputs": [],
   "source": [
    "#Fill in Queens (36081), Bronx (36005, Richmond(36085), Brooklyn (36047)\n",
    "nyc_counties = [36081,36005,36085,36047]\n",
    "\n",
    "us_map.loc[us_map.area_fips.isin(nyc_counties), \"deaths\"] = us_map.loc[us_map.area_fips == 36061,\"deaths\"].values[0]\n",
    "\n",
    "us_map.loc[us_map.area_fips.isin(nyc_counties), \"cases\"] = us_map.loc[us_map.area_fips == 36061,\"cases\"].values[0]\n",
    "\n",
    "us_map[\"Notes\"] = \"\"\n",
    "\n",
    "all_nyc_counties = [36081,36005,36085,36047,36061]\n",
    "\n",
    "us_map.loc[us_map.area_fips.isin(all_nyc_counties), \"Notes\"] = \"NYC counties are treated as one region\""
   ]
  },
  {
   "cell_type": "code",
   "execution_count": 22,
   "metadata": {},
   "outputs": [
    {
     "data": {
      "text/html": [
       "<div>\n",
       "<style scoped>\n",
       "    .dataframe tbody tr th:only-of-type {\n",
       "        vertical-align: middle;\n",
       "    }\n",
       "\n",
       "    .dataframe tbody tr th {\n",
       "        vertical-align: top;\n",
       "    }\n",
       "\n",
       "    .dataframe thead th {\n",
       "        text-align: right;\n",
       "    }\n",
       "</style>\n",
       "<table border=\"1\" class=\"dataframe\">\n",
       "  <thead>\n",
       "    <tr style=\"text-align: right;\">\n",
       "      <th></th>\n",
       "      <th>STATEFP</th>\n",
       "      <th>COUNTYFP</th>\n",
       "      <th>COUNTYNS</th>\n",
       "      <th>GEOID</th>\n",
       "      <th>NAME</th>\n",
       "      <th>NAMELSAD</th>\n",
       "      <th>LSAD</th>\n",
       "      <th>CLASSFP</th>\n",
       "      <th>MTFCC</th>\n",
       "      <th>CSAFP</th>\n",
       "      <th>...</th>\n",
       "      <th>INTPTLON</th>\n",
       "      <th>geometry</th>\n",
       "      <th>area_fips</th>\n",
       "      <th>county</th>\n",
       "      <th>state</th>\n",
       "      <th>fips</th>\n",
       "      <th>cases</th>\n",
       "      <th>deaths</th>\n",
       "      <th>_merge</th>\n",
       "      <th>Notes</th>\n",
       "    </tr>\n",
       "  </thead>\n",
       "  <tbody>\n",
       "    <tr>\n",
       "      <td>1399</td>\n",
       "      <td>36</td>\n",
       "      <td>085</td>\n",
       "      <td>00974141</td>\n",
       "      <td>36085</td>\n",
       "      <td>Richmond</td>\n",
       "      <td>Richmond County</td>\n",
       "      <td>06</td>\n",
       "      <td>H6</td>\n",
       "      <td>G4020</td>\n",
       "      <td>408</td>\n",
       "      <td>...</td>\n",
       "      <td>-074.1398995</td>\n",
       "      <td>POLYGON ((-8266483.974252383 4911049.094469544...</td>\n",
       "      <td>36085</td>\n",
       "      <td>NaN</td>\n",
       "      <td>NaN</td>\n",
       "      <td>NaN</td>\n",
       "      <td>81803.0</td>\n",
       "      <td>4571.0</td>\n",
       "      <td>left_only</td>\n",
       "      <td>NYC counties are treated as one region</td>\n",
       "    </tr>\n",
       "    <tr>\n",
       "      <td>2333</td>\n",
       "      <td>36</td>\n",
       "      <td>081</td>\n",
       "      <td>00974139</td>\n",
       "      <td>36081</td>\n",
       "      <td>Queens</td>\n",
       "      <td>Queens County</td>\n",
       "      <td>06</td>\n",
       "      <td>H6</td>\n",
       "      <td>G4020</td>\n",
       "      <td>408</td>\n",
       "      <td>...</td>\n",
       "      <td>-073.8380168</td>\n",
       "      <td>POLYGON ((-8241887.042205681 4916699.001055642...</td>\n",
       "      <td>36081</td>\n",
       "      <td>NaN</td>\n",
       "      <td>NaN</td>\n",
       "      <td>NaN</td>\n",
       "      <td>81803.0</td>\n",
       "      <td>4571.0</td>\n",
       "      <td>left_only</td>\n",
       "      <td>NYC counties are treated as one region</td>\n",
       "    </tr>\n",
       "    <tr>\n",
       "      <td>2409</td>\n",
       "      <td>36</td>\n",
       "      <td>047</td>\n",
       "      <td>00974122</td>\n",
       "      <td>36047</td>\n",
       "      <td>Kings</td>\n",
       "      <td>Kings County</td>\n",
       "      <td>06</td>\n",
       "      <td>H6</td>\n",
       "      <td>G4020</td>\n",
       "      <td>408</td>\n",
       "      <td>...</td>\n",
       "      <td>-073.9506398</td>\n",
       "      <td>POLYGON ((-8243928.307708359 4930339.699908601...</td>\n",
       "      <td>36047</td>\n",
       "      <td>NaN</td>\n",
       "      <td>NaN</td>\n",
       "      <td>NaN</td>\n",
       "      <td>81803.0</td>\n",
       "      <td>4571.0</td>\n",
       "      <td>left_only</td>\n",
       "      <td>NYC counties are treated as one region</td>\n",
       "    </tr>\n",
       "    <tr>\n",
       "      <td>2446</td>\n",
       "      <td>36</td>\n",
       "      <td>061</td>\n",
       "      <td>00974129</td>\n",
       "      <td>36061</td>\n",
       "      <td>New York</td>\n",
       "      <td>New York County</td>\n",
       "      <td>06</td>\n",
       "      <td>H6</td>\n",
       "      <td>G4020</td>\n",
       "      <td>408</td>\n",
       "      <td>...</td>\n",
       "      <td>-073.9701871</td>\n",
       "      <td>(POLYGON ((-8242889.140261804 4938939.08757678...</td>\n",
       "      <td>36061</td>\n",
       "      <td>New York City</td>\n",
       "      <td>New York</td>\n",
       "      <td>36061.0</td>\n",
       "      <td>81803.0</td>\n",
       "      <td>4571.0</td>\n",
       "      <td>both</td>\n",
       "      <td>NYC counties are treated as one region</td>\n",
       "    </tr>\n",
       "    <tr>\n",
       "      <td>3162</td>\n",
       "      <td>36</td>\n",
       "      <td>005</td>\n",
       "      <td>00974101</td>\n",
       "      <td>36005</td>\n",
       "      <td>Bronx</td>\n",
       "      <td>Bronx County</td>\n",
       "      <td>06</td>\n",
       "      <td>H6</td>\n",
       "      <td>G4020</td>\n",
       "      <td>408</td>\n",
       "      <td>...</td>\n",
       "      <td>-073.8529390</td>\n",
       "      <td>POLYGON ((-8230256.493127092 4967047.620882855...</td>\n",
       "      <td>36005</td>\n",
       "      <td>NaN</td>\n",
       "      <td>NaN</td>\n",
       "      <td>NaN</td>\n",
       "      <td>81803.0</td>\n",
       "      <td>4571.0</td>\n",
       "      <td>left_only</td>\n",
       "      <td>NYC counties are treated as one region</td>\n",
       "    </tr>\n",
       "  </tbody>\n",
       "</table>\n",
       "<p>5 rows × 26 columns</p>\n",
       "</div>"
      ],
      "text/plain": [
       "     STATEFP COUNTYFP  COUNTYNS  GEOID      NAME         NAMELSAD LSAD  \\\n",
       "1399      36      085  00974141  36085  Richmond  Richmond County   06   \n",
       "2333      36      081  00974139  36081    Queens    Queens County   06   \n",
       "2409      36      047  00974122  36047     Kings     Kings County   06   \n",
       "2446      36      061  00974129  36061  New York  New York County   06   \n",
       "3162      36      005  00974101  36005     Bronx     Bronx County   06   \n",
       "\n",
       "     CLASSFP  MTFCC CSAFP  ...      INTPTLON  \\\n",
       "1399      H6  G4020   408  ...  -074.1398995   \n",
       "2333      H6  G4020   408  ...  -073.8380168   \n",
       "2409      H6  G4020   408  ...  -073.9506398   \n",
       "2446      H6  G4020   408  ...  -073.9701871   \n",
       "3162      H6  G4020   408  ...  -073.8529390   \n",
       "\n",
       "                                               geometry area_fips  \\\n",
       "1399  POLYGON ((-8266483.974252383 4911049.094469544...     36085   \n",
       "2333  POLYGON ((-8241887.042205681 4916699.001055642...     36081   \n",
       "2409  POLYGON ((-8243928.307708359 4930339.699908601...     36047   \n",
       "2446  (POLYGON ((-8242889.140261804 4938939.08757678...     36061   \n",
       "3162  POLYGON ((-8230256.493127092 4967047.620882855...     36005   \n",
       "\n",
       "             county     state     fips    cases  deaths     _merge  \\\n",
       "1399            NaN       NaN      NaN  81803.0  4571.0  left_only   \n",
       "2333            NaN       NaN      NaN  81803.0  4571.0  left_only   \n",
       "2409            NaN       NaN      NaN  81803.0  4571.0  left_only   \n",
       "2446  New York City  New York  36061.0  81803.0  4571.0       both   \n",
       "3162            NaN       NaN      NaN  81803.0  4571.0  left_only   \n",
       "\n",
       "                                       Notes  \n",
       "1399  NYC counties are treated as one region  \n",
       "2333  NYC counties are treated as one region  \n",
       "2409  NYC counties are treated as one region  \n",
       "2446  NYC counties are treated as one region  \n",
       "3162  NYC counties are treated as one region  \n",
       "\n",
       "[5 rows x 26 columns]"
      ]
     },
     "execution_count": 22,
     "metadata": {},
     "output_type": "execute_result"
    }
   ],
   "source": [
    "all_nyc_counties = [36081,36005,36085,36047,36061]\n",
    "\n",
    "us_map.loc[us_map.area_fips.isin(all_nyc_counties)]"
   ]
  },
  {
   "cell_type": "code",
   "execution_count": 23,
   "metadata": {},
   "outputs": [],
   "source": [
    "#us_map[[\"NAME\",\"NAMELSAD\",\"county\",\"state\", \"cases\"]].head(48)"
   ]
  },
  {
   "cell_type": "markdown",
   "metadata": {},
   "source": [
    "I'm from Alaska, so this next step is always painfull. Drop states and territories who are not part of the \"lower 48\", contiguous US. Still not clear how fix this in geopandas."
   ]
  },
  {
   "cell_type": "code",
   "execution_count": 24,
   "metadata": {},
   "outputs": [],
   "source": [
    "us_map.set_index(\"STATEFP\", inplace = True)\n",
    "\n",
    "drop_list = [\"02\",\"15\",\"72\",\"78\",\"69\",\"66\",\"60\",]\n",
    "\n",
    "us_map.drop(drop_list, inplace = True)"
   ]
  },
  {
   "cell_type": "code",
   "execution_count": 25,
   "metadata": {},
   "outputs": [],
   "source": [
    "state_shape = cwd + \"\\\\shapefiles\\\\state\\\\tl_2017_us_state.shx\"\n",
    "\n",
    "state_map = gpd.read_file(state_shape)\n",
    "\n",
    "state_map = state_map.to_crs({'init': 'epsg:3395'})\n",
    "\n",
    "state_map[\"geometry\"] = state_map[\"geometry\"].simplify(200)"
   ]
  },
  {
   "cell_type": "code",
   "execution_count": 26,
   "metadata": {},
   "outputs": [],
   "source": [
    "state_fp_dict = dict(zip(state_map.STATEFP, state_map.STUSPS))"
   ]
  },
  {
   "cell_type": "code",
   "execution_count": 27,
   "metadata": {},
   "outputs": [],
   "source": [
    "state_map.set_index(\"STATEFP\", inplace = True)\n",
    "\n",
    "drop_list = [\"02\",\"15\",\"72\",\"78\",\"69\",\"66\",\"60\",]\n",
    "\n",
    "state_map.drop(drop_list, inplace = True)"
   ]
  },
  {
   "cell_type": "code",
   "execution_count": 28,
   "metadata": {},
   "outputs": [],
   "source": [
    "us_map.reset_index(inplace = True)"
   ]
  },
  {
   "cell_type": "code",
   "execution_count": 29,
   "metadata": {},
   "outputs": [],
   "source": [
    "us_map[\"STSPS\"] = us_map[\"STATEFP\"].map(state_fp_dict)"
   ]
  },
  {
   "cell_type": "code",
   "execution_count": 30,
   "metadata": {},
   "outputs": [],
   "source": [
    "us_map[\"NAME\"] = us_map[\"NAME\"] + \", \" + us_map[\"STSPS\"]"
   ]
  },
  {
   "cell_type": "code",
   "execution_count": 31,
   "metadata": {},
   "outputs": [],
   "source": [
    "us_map.set_index(\"STATEFP\", inplace = True)"
   ]
  },
  {
   "cell_type": "code",
   "execution_count": 32,
   "metadata": {},
   "outputs": [],
   "source": [
    "#us_map[\"cases\"].replace(\"nan\", np.nan, inplace = True)\n",
    "\n",
    "#us_map[\"cases\"] = us_map[\"cases\"].str.replace(',','')\n",
    "\n",
    "#us_map[\"cases\"] = us_map[\"cases\"].astype(int)\n",
    "\n",
    "us_map[\"cases_label\"] = us_map[\"cases\"].round(0)\n",
    "\n",
    "us_map[\"cases_label\"] = us_map[\"cases_label\"].map('{:,.0f}'.format)\n",
    "\n",
    "us_map[\"deaths_label\"] = us_map[\"deaths\"].round(0)\n",
    "\n",
    "us_map[\"deaths_label\"] = us_map[\"deaths_label\"].map('{:,.0f}'.format)"
   ]
  },
  {
   "cell_type": "markdown",
   "metadata": {},
   "source": [
    "#### Add Census Data\n",
    "\n",
    "Here I add this in. MY api key is posted here, please be respectfull of it."
   ]
  },
  {
   "cell_type": "code",
   "execution_count": 33,
   "metadata": {},
   "outputs": [],
   "source": [
    "my_api_key = '34e40301bda77077e24c859c6c6c0b721ad73fc7'\n",
    "# This is my api_key, # don't abuse this.\n",
    "\n",
    "c = Census(my_api_key)\n",
    "# This will create an object c which has methods associated with it.\n",
    "# We will see  these below.\n",
    "\n",
    "code = (\"NAME\",\"B01001_001E\") \n",
    "# Get more stuff from the cencuss if we want...\n",
    "\n",
    "county_2017 = pd.DataFrame(c.acs5.get(code, \n",
    "                                         {'for': 'county:*'}, year=2017))\n",
    "                                         # Same deal, but we specify county then the wild card\n",
    "                                         # On the example page, there are ways do do this, only by state\n",
    "        \n",
    "county_2017 = county_2017.rename(columns = {\"B01001_001E\":\"2017_population\"})\n",
    "\n",
    "county_2017[\"GEOFIPS\"] = (county_2017[\"state\"] + county_2017[\"county\"]).astype(int)\n",
    "\n",
    "county_2017[\"2017_population\"] = county_2017[\"2017_population\"].astype(float)\n",
    "\n",
    "county_2017.set_index([\"GEOFIPS\"], inplace = True)"
   ]
  },
  {
   "cell_type": "code",
   "execution_count": 34,
   "metadata": {},
   "outputs": [
    {
     "data": {
      "text/html": [
       "<div>\n",
       "<style scoped>\n",
       "    .dataframe tbody tr th:only-of-type {\n",
       "        vertical-align: middle;\n",
       "    }\n",
       "\n",
       "    .dataframe tbody tr th {\n",
       "        vertical-align: top;\n",
       "    }\n",
       "\n",
       "    .dataframe thead th {\n",
       "        text-align: right;\n",
       "    }\n",
       "</style>\n",
       "<table border=\"1\" class=\"dataframe\">\n",
       "  <thead>\n",
       "    <tr style=\"text-align: right;\">\n",
       "      <th></th>\n",
       "      <th>NAME</th>\n",
       "      <th>2017_population</th>\n",
       "      <th>state</th>\n",
       "      <th>county</th>\n",
       "    </tr>\n",
       "    <tr>\n",
       "      <th>GEOFIPS</th>\n",
       "      <th></th>\n",
       "      <th></th>\n",
       "      <th></th>\n",
       "      <th></th>\n",
       "    </tr>\n",
       "  </thead>\n",
       "  <tbody>\n",
       "    <tr>\n",
       "      <td>72047</td>\n",
       "      <td>Corozal Municipio, Puerto Rico</td>\n",
       "      <td>34933.0</td>\n",
       "      <td>72</td>\n",
       "      <td>047</td>\n",
       "    </tr>\n",
       "    <tr>\n",
       "      <td>72095</td>\n",
       "      <td>Maunabo Municipio, Puerto Rico</td>\n",
       "      <td>11297.0</td>\n",
       "      <td>72</td>\n",
       "      <td>095</td>\n",
       "    </tr>\n",
       "    <tr>\n",
       "      <td>72111</td>\n",
       "      <td>Peñuelas Municipio, Puerto Rico</td>\n",
       "      <td>21661.0</td>\n",
       "      <td>72</td>\n",
       "      <td>111</td>\n",
       "    </tr>\n",
       "    <tr>\n",
       "      <td>72113</td>\n",
       "      <td>Ponce Municipio, Puerto Rico</td>\n",
       "      <td>148863.0</td>\n",
       "      <td>72</td>\n",
       "      <td>113</td>\n",
       "    </tr>\n",
       "    <tr>\n",
       "      <td>72131</td>\n",
       "      <td>San Sebastián Municipio, Puerto Rico</td>\n",
       "      <td>38970.0</td>\n",
       "      <td>72</td>\n",
       "      <td>131</td>\n",
       "    </tr>\n",
       "  </tbody>\n",
       "</table>\n",
       "</div>"
      ],
      "text/plain": [
       "                                         NAME  2017_population state county\n",
       "GEOFIPS                                                                    \n",
       "72047          Corozal Municipio, Puerto Rico          34933.0    72    047\n",
       "72095          Maunabo Municipio, Puerto Rico          11297.0    72    095\n",
       "72111         Peñuelas Municipio, Puerto Rico          21661.0    72    111\n",
       "72113            Ponce Municipio, Puerto Rico         148863.0    72    113\n",
       "72131    San Sebastián Municipio, Puerto Rico          38970.0    72    131"
      ]
     },
     "execution_count": 34,
     "metadata": {},
     "output_type": "execute_result"
    }
   ],
   "source": [
    "county_2017.head()"
   ]
  },
  {
   "cell_type": "code",
   "execution_count": 35,
   "metadata": {},
   "outputs": [],
   "source": [
    "us_map = us_map.merge(county_2017[[\"2017_population\"]], \n",
    "                      left_on='area_fips', right_on = \"GEOFIPS\", how = \"left\")"
   ]
  },
  {
   "cell_type": "code",
   "execution_count": 36,
   "metadata": {},
   "outputs": [],
   "source": [
    "us_map[\"pop_label\"] = us_map[\"2017_population\"].map('{:,.0f}'.format)"
   ]
  },
  {
   "cell_type": "code",
   "execution_count": 37,
   "metadata": {},
   "outputs": [],
   "source": [
    "q_cases = [0,1,5,10,100,250,500,1000,5000,10000,np.inf]"
   ]
  },
  {
   "cell_type": "code",
   "execution_count": 38,
   "metadata": {},
   "outputs": [],
   "source": [
    "us_map[\"q_cases\"]= pd.cut(us_map[\"cases\"],q_cases, labels=range(0,10))\n",
    "us_map[\"q_deaths\"]= pd.cut(us_map[\"deaths\"],q_cases, labels=range(0,10))"
   ]
  },
  {
   "cell_type": "code",
   "execution_count": 39,
   "metadata": {},
   "outputs": [
    {
     "data": {
      "text/plain": [
       "7"
      ]
     },
     "execution_count": 39,
     "metadata": {},
     "output_type": "execute_result"
    }
   ],
   "source": [
    "us_map[\"q_deaths\"].max()"
   ]
  },
  {
   "cell_type": "code",
   "execution_count": 40,
   "metadata": {},
   "outputs": [],
   "source": [
    "us_map[\"cases_label\"].replace(\"nan\", \"None reported\", inplace = True)\n",
    "us_map[\"deaths_label\"].replace(\"nan\", \"None reported\", inplace = True)"
   ]
  },
  {
   "cell_type": "markdown",
   "metadata": {},
   "source": [
    "The final issue is to create the borders associated with the great lakes. The issue is that the tigerline shape files just extend boundries into the waterline. And the associated coastline maps are (i) not polygons and (ii) looked messed up. So per above, I found another shape file of lakes. Then I will use geopandas built in set operations to essentially \"punch out\" the holes associated with the great lakes. \n",
    "\n",
    "[https://geopandas.org/set_operations.html](https://geopandas.org/set_operations.html)\n",
    "\n",
    "**Note** for teaching purposes, it's worth messing around with the ``how`` operations to understand what is going on here."
   ]
  },
  {
   "cell_type": "code",
   "execution_count": 41,
   "metadata": {},
   "outputs": [],
   "source": [
    "# This operation will take care of the coastline\n",
    "\n",
    "us_map = gpd.overlay(us_map, land_map,  how='intersection')"
   ]
  },
  {
   "cell_type": "code",
   "execution_count": 42,
   "metadata": {},
   "outputs": [],
   "source": [
    "great_lakes = [\"Lake Superior\", \"Lake Michigan\", \"Lake Erie\",\"Lake Superior\"\"Lake Huron\"]\n",
    "\n",
    "us_map = gpd.overlay(us_map, lake_map[lake_map.name.isin(great_lakes)],  how='difference')\n",
    "# this is the key operation...note that the order matters on the difference operation. output is same "
   ]
  },
  {
   "cell_type": "code",
   "execution_count": null,
   "metadata": {},
   "outputs": [],
   "source": [
    "state_map = gpd.overlay(state_map, land_map,  how='intersection')\n",
    "\n",
    "state_map = gpd.overlay(state_map, lake_map[lake_map.name.isin(great_lakes)],  how='difference')\n",
    "# Do the same thing for the state map"
   ]
  },
  {
   "cell_type": "markdown",
   "metadata": {},
   "source": [
    "---\n",
    "\n",
    "### Step \\# 4. Create a Static map\n",
    "\n",
    "Below is a set of code and lots of tricks to make a nice looking static map using Geopandas build in functionality. The output file is a ``.png`` file. Should enhance this by adding the date and generating the maps by date."
   ]
  },
  {
   "cell_type": "code",
   "execution_count": null,
   "metadata": {},
   "outputs": [],
   "source": [
    "from mpl_toolkits.axes_grid1 import make_axes_locatable\n",
    "\n",
    "fig, ax = plt.subplots(1,1,figsize = (12,8))\n",
    "\n",
    "plt.tight_layout()\n",
    "plt.rcParams.update(plt.rcParamsDefault) # This will reset defaluts...\n",
    "\n",
    "#################################################################################\n",
    "# This is for the colorbar...\n",
    "\n",
    "divider = make_axes_locatable(ax)\n",
    "\n",
    "cax = divider.append_axes(\"right\", size=\"3%\", pad=0.1)\n",
    "\n",
    "#################################################################################\n",
    "## This creates a discrete colorbar scheme...\n",
    "# https://gist.github.com/jakevdp/91077b0cae40f8f8244a\n",
    "\n",
    "N = 10\n",
    "\n",
    "base = plt.cm.get_cmap(\"RdBu_r\")\n",
    "\n",
    "color_list = base(np.linspace(0, 1, N))\n",
    "\n",
    "cmap_name = base.name + str(N)\n",
    "\n",
    "dcmap =  base.from_list(cmap_name, color_list, N)\n",
    "\n",
    "#################################################################################\n",
    "# This is the normal mapping...\n",
    "\n",
    "#us_map[us_map.q_cases.isna()].plot(alpha = 0.25, color = \"grey\", ax = ax,)\n",
    "\n",
    "us_map.plot(column='q_cases', ax = ax,\n",
    "              # THIS IS NEW, it says color it based on this column\n",
    "             cmap=dcmap, \n",
    "             alpha = 0.75,\n",
    "             vmin=0, vmax=us_map.q_cases.max())\n",
    "\n",
    "#################################################################################\n",
    "# This then alows me to generate and edit the colorbar....\n",
    "# https://stackoverflow.com/questions/53158096/editing-colorbar-legend-in-geopandas\n",
    "\n",
    "sm = plt.cm.ScalarMappable(cmap=dcmap)\n",
    "sm._A = []\n",
    "cbr = fig.colorbar(sm, cax=cax)\n",
    "\n",
    "cbr.set_label('Number of Covid Cases')\n",
    "cbr.set_alpha(0.15)\n",
    "\n",
    "cbr.set_ticks([0, 0.10, 0.20, 0.30,0.40,0.50,0.60,0.70,0.80, 0.90])\n",
    "cbr.set_ticklabels(q_cases, update_ticks=True)\n",
    "\n",
    "#################################################################################\n",
    "\n",
    "state_map.geometry.boundary.plot(color=None, edgecolor='k', alpha = 0.35, ax = ax)\n",
    "\n",
    "#coast_map.plot(color='k', edgecolor='k', alpha = 0.25, ax = ax)\n",
    "\n",
    "#################################################################################\n",
    "# Then some final stuff to clean things up....\n",
    "\n",
    "ax.spines[\"right\"].set_visible(False)\n",
    "ax.spines[\"top\"].set_visible(False)\n",
    "ax.spines[\"left\"].set_visible(False)\n",
    "ax.spines[\"bottom\"].set_visible(False)\n",
    "\n",
    "ax.get_xaxis().set_visible(False)\n",
    "\n",
    "ax.get_yaxis().set_visible(False)\n",
    "\n",
    "title = \"Covid-19 Cases by County as of \" + latest_date + \", Total Cases: \" + f\"{total:,d}\"\n",
    "title_death = \"Covid-19 Deaths by County as of \" + latest_date + \", Total Deaths: \" + f\"{total_deaths:,d}\"\n",
    "ax.set_title(title, fontsize = 16, loc= \"left\" )\n",
    "\n",
    "plt.savefig(\"covid-19-map.png\", bbox_inches = \"tight\", dip = 1200)\n",
    "\n",
    "plt.show()"
   ]
  },
  {
   "cell_type": "markdown",
   "metadata": {},
   "source": [
    "---\n",
    "\n",
    "### Step \\# 5. Create Live/html map\n",
    "\n",
    "This took a huge amount of effort to all sort out form bokeh's documentation and other resources. It works and generates something really great in my opinion. \n",
    "\n",
    "Note, need to have a folder called ``docs`` below the working directory. It will save the ``.html`` file there. Then to see the map, just open the ``.html`` file in a web browswer.\n",
    "\n",
    "**Updated** the code was modified to create ``tabs`` where the user could [select the measure](https://docs.bokeh.org/en/latest/docs/user_guide/interaction/widgets.html). In this case it will creat two tabs one for cases, one for deaths. This is very simple. Just great two mapping objects and then combine them using this ``tab`` function."
   ]
  },
  {
   "cell_type": "code",
   "execution_count": null,
   "metadata": {},
   "outputs": [],
   "source": [
    "import json\n",
    "from bokeh.io import show\n",
    "from bokeh.models import (CDSView, ColorBar, ColumnDataSource,\n",
    "                          CustomJS, CustomJSFilter, \n",
    "                          GeoJSONDataSource, HoverTool,\n",
    "                          LinearColorMapper, Slider)\n",
    "from bokeh.layouts import column, row, widgetbox\n",
    "from bokeh.palettes import brewer\n",
    "from bokeh.plotting import figure\n",
    "from bokeh.models import Title\n",
    "\n",
    "from bokeh.plotting import figure, save\n",
    "\n",
    "from bokeh.models import Panel, Tabs\n",
    "\n",
    "from bokeh.resources import CDN\n",
    "from bokeh.embed import file_html\n",
    "\n",
    "# Input GeoJSON source that contains features for plotting\n",
    "#geosource = GeoJSONDataSource(geojson = us_map.to_json())"
   ]
  },
  {
   "cell_type": "markdown",
   "metadata": {},
   "source": [
    "This is cell containst stuff that is common across the two plots"
   ]
  },
  {
   "cell_type": "code",
   "execution_count": null,
   "metadata": {},
   "outputs": [],
   "source": [
    "state_geosource = GeoJSONDataSource(geojson = state_map.to_json())\n",
    "\n",
    "#coast_geosource = GeoJSONDataSource(geojson = coast_map.to_json())\n",
    "\n",
    "geosource = GeoJSONDataSource(geojson = us_map.to_json())\n",
    "\n",
    "palette = brewer['RdBu'][10]\n",
    "\n",
    "#https://docs.bokeh.org/en/latest/docs/reference/palettes.html\n",
    "\n",
    "color_mapper = LinearColorMapper(palette = palette, low = 0, high = 9)\n",
    "\n",
    "tick_labels = {2:str(q_cases[2]), \n",
    "              4:str(q_cases[4]), 6:str(q_cases[6]), 8 :str(q_cases[9])}"
   ]
  },
  {
   "cell_type": "markdown",
   "metadata": {},
   "source": [
    "This cell contains the first \"tab\" which is number of cases"
   ]
  },
  {
   "cell_type": "code",
   "execution_count": null,
   "metadata": {},
   "outputs": [],
   "source": [
    "color_bar = ColorBar(color_mapper = color_mapper, \n",
    "                     label_standoff = 8,\n",
    "                     width = 20, height = 420,\n",
    "                     border_line_color = None,\n",
    "                     orientation = \"vertical\",\n",
    "                     location=(0,0), major_label_overrides = tick_labels,\n",
    "                     major_tick_line_alpha = .25)\n",
    "\n",
    "# Create figure object.\n",
    "p = figure( \n",
    "           plot_height = 600 ,\n",
    "           plot_width = 950, \n",
    "           toolbar_location = 'below',\n",
    "           tools = \"box_zoom, reset\")\n",
    "\n",
    "descip = \"Colorbar by # of covid-19 cases; Hover tool reports county name, cases, deaths, and data notes.\"\n",
    "descip = descip + \"Data from https://github.com/nytimes/covid-19-data\"\n",
    "p.add_layout(Title(text=descip, text_font_style=\"italic\", text_font_size=\"9pt\"), 'above')\n",
    "p.add_layout(Title(text=title, text_font_size=\"11pt\"), 'above')\n",
    "\n",
    "author = \"Created by Michael Waugh, NYU-Stern and NBER, www.waugheconomics.com\"\n",
    "p.add_layout(Title(text=author, text_font_style=\"italic\", text_font_size=\"9pt\"), 'below')\n",
    "\n",
    "\n",
    "p.xgrid.grid_line_color = None\n",
    "p.ygrid.grid_line_color = None\n",
    "# Add patch renderer to figure.\n",
    "\n",
    "states = p.patches('xs','ys', source = geosource,\n",
    "                   fill_color = {\"field\" :'q_cases',\n",
    "                                 \"transform\" : color_mapper},\n",
    "                   line_color = \"gray\", \n",
    "                   line_width = 0.25, \n",
    "                   fill_alpha = 1)\n",
    "\n",
    "state_line = p.multi_line('xs','ys', source = state_geosource,\n",
    "                   line_color = \"black\", \n",
    "                   line_width = 0.5)\n",
    "\n",
    "#coast_line = p.multi_line('xs','ys', source = coast_geosource,\n",
    "#                   line_color = \"black\", \n",
    "#                   line_width = 0.5)\n",
    "# Create hover tool\n",
    "\n",
    "p.add_tools(HoverTool(renderers = [states],\n",
    "                      tooltips = [('County','@NAME'),\n",
    "                                ('Cases','@cases_label'),\n",
    "                                 ('Deaths','@deaths_label'),\n",
    "                                ('Population (2017)','@pop_label'),\n",
    "                                 ('Data Notes','@Notes')]))\n",
    "\n",
    "#### Some features to make it a bit nicer. \n",
    "\n",
    "p.axis.visible = False\n",
    "p.background_fill_color = \"grey\"\n",
    "p.background_fill_alpha = 0.25\n",
    "\n",
    "p.toolbar.autohide = True\n",
    "\n",
    "p.add_layout(color_bar, \"right\")\n",
    "\n",
    "## Send to doc file, create a webpage from doc file on github\n",
    "# then had weebly webiste point to that .html file. That's how\n",
    "# I got this to work."
   ]
  },
  {
   "cell_type": "markdown",
   "metadata": {},
   "source": [
    "This then creates the second tab which is deaths"
   ]
  },
  {
   "cell_type": "code",
   "execution_count": null,
   "metadata": {},
   "outputs": [],
   "source": [
    "tick_labels = {2:str(q_cases[2]), \n",
    "              4:str(q_cases[4]), 6:str(q_cases[6]), 8 :str(q_cases[9])}\n",
    "\n",
    "color_bar = ColorBar(color_mapper = color_mapper, \n",
    "                     label_standoff = 8,\n",
    "                     width = 20, height = 420,\n",
    "                     border_line_color = None,\n",
    "                     orientation = \"vertical\",\n",
    "                     location=(0,0), major_label_overrides = tick_labels,\n",
    "                     major_tick_line_alpha = .25)\n",
    "\n",
    "label = 'Percentile in Distribution of Covid Cases'\n",
    "# Create figure object.\n",
    "pdth = figure( \n",
    "           plot_height = 600 ,\n",
    "           plot_width = 950, \n",
    "           toolbar_location = 'below',\n",
    "           tools = \"box_zoom, reset\")\n",
    "\n",
    "descip = \"Colorbar by # of covid-19 deaths; Hover tool reports county name, cases, deaths, and data notes.\"\n",
    "descip = descip + \" Data from https://github.com/nytimes/covid-19-data\"\n",
    "pdth.add_layout(Title(text=descip, text_font_style=\"italic\", text_font_size=\"9pt\"), 'above')\n",
    "pdth.add_layout(Title(text=title_death, text_font_size=\"11pt\"), 'above')\n",
    "\n",
    "author = \"Created by Michael Waugh, NYU-Stern and NBER, www.waugheconomics.com\"\n",
    "pdth.add_layout(Title(text=author, text_font_style=\"italic\", text_font_size=\"9pt\"), 'below')\n",
    "\n",
    "\n",
    "pdth.xgrid.grid_line_color = None\n",
    "pdth.ygrid.grid_line_color = None\n",
    "# Add patch renderer to figure.\n",
    "\n",
    "states = pdth.patches('xs','ys', source = geosource,\n",
    "                   fill_color = {\"field\" :'q_deaths',\n",
    "                                 \"transform\" : color_mapper},\n",
    "                   line_color = \"gray\", \n",
    "                   line_width = 0.25, \n",
    "                   fill_alpha = 1)\n",
    "\n",
    "state_line = pdth.multi_line('xs','ys', source = state_geosource,\n",
    "                   line_color = \"black\", \n",
    "                   line_width = 0.5)\n",
    "\n",
    "#coast_line = p.multi_line('xs','ys', source = coast_geosource,\n",
    "#                   line_color = \"black\", \n",
    "#                   line_width = 0.5)\n",
    "# Create hover tool\n",
    "\n",
    "pdth.add_tools(HoverTool(renderers = [states],\n",
    "                      tooltips = [('County','@NAME'),\n",
    "                                ('Cases','@cases_label'),\n",
    "                                 ('Deaths','@deaths_label'),\n",
    "                                ('Population (2017)','@pop_label'),\n",
    "                                 ('Data Notes','@Notes')]))\n",
    "\n",
    "#### Some features to make it a bit nicer. \n",
    "\n",
    "pdth.axis.visible = False\n",
    "pdth.background_fill_color = \"grey\"\n",
    "pdth.background_fill_alpha = 0.25\n",
    "\n",
    "pdth.toolbar.autohide = True\n",
    "\n",
    "pdth.add_layout(color_bar, \"right\")\n",
    "\n",
    "## Send to doc file, create a webpage from doc file on github\n",
    "# then had weebly webiste point to that .html file. That's how\n",
    "# I got this to work."
   ]
  },
  {
   "cell_type": "markdown",
   "metadata": {},
   "source": [
    "Then this combines it using the tab operation."
   ]
  },
  {
   "cell_type": "code",
   "execution_count": null,
   "metadata": {},
   "outputs": [],
   "source": [
    "tab1 = Panel(child=p, title=\"Cases\")\n",
    "tab2 = Panel(child=pdth, title=\"Deaths\")\n",
    "\n",
    "tabs = Tabs(tabs=[ tab1, tab2 ])\n",
    "\n",
    "file_path = os.getcwd()\n",
    "\n",
    "doc_path = file_path +\"\\\\docs\"\n",
    "\n",
    "outfp = doc_path + \"\\\\us_covid_map.html\"\n",
    "\n",
    "# Save the map\n",
    "save(tabs, outfp)\n",
    "\n",
    "# Not sure if this is important, but seemed to start working once\n",
    "# I ran it\n",
    "html = file_html(tabs, CDN, outfp)"
   ]
  },
  {
   "cell_type": "code",
   "execution_count": null,
   "metadata": {},
   "outputs": [],
   "source": []
  }
 ],
 "metadata": {
  "kernelspec": {
   "display_name": "Python 3",
   "language": "python",
   "name": "python3"
  },
  "language_info": {
   "codemirror_mode": {
    "name": "ipython",
    "version": 3
   },
   "file_extension": ".py",
   "mimetype": "text/x-python",
   "name": "python",
   "nbconvert_exporter": "python",
   "pygments_lexer": "ipython3",
   "version": "3.7.3"
  }
 },
 "nbformat": 4,
 "nbformat_minor": 2
}
