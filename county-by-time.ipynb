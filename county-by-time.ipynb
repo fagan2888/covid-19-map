{
 "cells": [
  {
   "cell_type": "code",
   "execution_count": 70,
   "metadata": {},
   "outputs": [],
   "source": [
    "import pandas as pd             # data package\n",
    "import matplotlib.pyplot as plt # graphics \n",
    "import datetime as dt\n",
    "import numpy as np\n",
    "import matplotlib.dates as mdates\n",
    "\n",
    "# these are new \n",
    "import requests, io             # internet and input tools  \n",
    "import zipfile as zf            # zip file tools \n",
    "import shutil                   # file management tools \n",
    "import os                       # operating system tools (check files)"
   ]
  },
  {
   "cell_type": "code",
   "execution_count": 71,
   "metadata": {},
   "outputs": [],
   "source": [
    "df = pd.read_csv(\"https://github.com/nytimes/covid-19-data/raw/master/us-counties.csv\")\n",
    "\n",
    "nyc = df.county == \"New York City\"\n",
    "df.loc[nyc,\"fips\"] = 36061\n",
    "\n",
    "df[\"date\"] = pd.to_datetime(df[\"date\"], format = \"%Y-%m-%d\")"
   ]
  },
  {
   "cell_type": "code",
   "execution_count": 72,
   "metadata": {},
   "outputs": [],
   "source": [
    "grp = df.groupby([\"fips\"])"
   ]
  },
  {
   "cell_type": "code",
   "execution_count": 111,
   "metadata": {},
   "outputs": [],
   "source": [
    "def plot_time_county(df):\n",
    "    \n",
    "    plt.style.use('ggplot')\n",
    "    \n",
    "    fig, ax = plt.subplots(1,1,figsize = (7,4))\n",
    "\n",
    "    mike_blue = tuple(np.array([20, 64, 134]) / 255)\n",
    "\n",
    "    ax.plot(df.date,df.cases.diff(1).rolling(7).mean(), alpha = 0.99, color = \"firebrick\", linewidth = 3\n",
    "           , label = \"7 day moving average\")\n",
    "\n",
    "    ax.bar(df.date,df.cases.diff(1), alpha = 0.80, color = \"red\")\n",
    "\n",
    "    ax.set_xlim(dt.datetime(2020,3,1),dt.datetime(2020,5,5))\n",
    "    \n",
    "    ax.set_ylim(0,)\n",
    "\n",
    "    ax.spines[\"right\"].set_visible(False)\n",
    "\n",
    "    ax.spines[\"top\"].set_visible(False)\n",
    "\n",
    "    ax.set_ylabel(\"New Covid-19 Cases\", fontsize = 10)\n",
    "    \n",
    "    ax.legend(loc='upper left', frameon=False)\n",
    "\n",
    "#https://matplotlib.org/3.1.0/gallery/ticks_and_spines/date_concise_formatter.html\n",
    "# makes the dates more concise\n",
    "    locator = mdates.AutoDateLocator(minticks=3, maxticks=10)\n",
    "    formatter = mdates.ConciseDateFormatter(locator)\n",
    "    ax.xaxis.set_major_locator(locator)\n",
    "    ax.xaxis.set_major_formatter(formatter)\n",
    "\n",
    "    place = df.county.iloc[0] + \" County, \" + df.state.iloc[0]\n",
    "\n",
    "    plt.title(place, fontsize = 12, loc= \"center\")\n",
    "\n",
    "    file_path = os.getcwd()\n",
    "\n",
    "    doc_path = file_path + \"\\\\docs\"\n",
    "\n",
    "    outfp = doc_path + \"\\\\county_\" + str(df.fips.iloc[0].astype(int)) + \".png\"\n",
    "    #print(outfp)\n",
    "    plt.savefig(outfp, bbox_inches = \"tight\", dip = 1200)\n",
    "    plt.close(fig)\n",
    "    #plt.show()"
   ]
  },
  {
   "cell_type": "code",
   "execution_count": 86,
   "metadata": {},
   "outputs": [],
   "source": [
    "dftest = grp.get_group(27053)"
   ]
  },
  {
   "cell_type": "code",
   "execution_count": 110,
   "metadata": {},
   "outputs": [
    {
     "data": {
      "image/png": "[encoded data removed]",
      "text/plain": [
       "<Figure size 504x288 with 1 Axes>"
      ]
     },
     "metadata": {},
     "output_type": "display_data"
    }
   ],
   "source": [
    "plot_time_county(dftest)"
   ]
  },
  {
   "cell_type": "code",
   "execution_count": 112,
   "metadata": {},
   "outputs": [
    {
     "data": {
      "text/html": [
       "<div>\n",
       "<style scoped>\n",
       "    .dataframe tbody tr th:only-of-type {\n",
       "        vertical-align: middle;\n",
       "    }\n",
       "\n",
       "    .dataframe tbody tr th {\n",
       "        vertical-align: top;\n",
       "    }\n",
       "\n",
       "    .dataframe thead th {\n",
       "        text-align: right;\n",
       "    }\n",
       "</style>\n",
       "<table border=\"1\" class=\"dataframe\">\n",
       "  <thead>\n",
       "    <tr style=\"text-align: right;\">\n",
       "      <th></th>\n",
       "    </tr>\n",
       "  </thead>\n",
       "  <tbody>\n",
       "  </tbody>\n",
       "</table>\n",
       "</div>"
      ],
      "text/plain": [
       "Empty DataFrame\n",
       "Columns: []\n",
       "Index: []"
      ]
     },
     "execution_count": 112,
     "metadata": {},
     "output_type": "execute_result"
    }
   ],
   "source": [
    "plt.ioff()\n",
    "\n",
    "grp.apply(plot_time_county)"
   ]
  },
  {
   "cell_type": "code",
   "execution_count": null,
   "metadata": {},
   "outputs": [],
   "source": []
  }
 ],
 "metadata": {
  "kernelspec": {
   "display_name": "Python 3",
   "language": "python",
   "name": "python3"
  },
  "language_info": {
   "codemirror_mode": {
    "name": "ipython",
    "version": 3
   },
   "file_extension": ".py",
   "mimetype": "text/x-python",
   "name": "python",
   "nbconvert_exporter": "python",
   "pygments_lexer": "ipython3",
   "version": "3.7.3"
  }
 },
 "nbformat": 4,
 "nbformat_minor": 4
}
