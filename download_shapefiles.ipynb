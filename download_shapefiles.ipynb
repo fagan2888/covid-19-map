{
 "cells": [
  {
   "cell_type": "code",
   "execution_count": 1,
   "metadata": {},
   "outputs": [],
   "source": [
    "import pandas as pd             # data package\n",
    "import matplotlib.pyplot as plt # graphics \n",
    "import datetime as dt\n",
    "import numpy as np\n",
    "\n",
    "# these are new \n",
    "import requests, io             # internet and input tools  \n",
    "import zipfile as zf            # zip file tools \n",
    "import shutil                   # file management tools \n",
    "import os                       # operating system tools (check files)\n",
    "\n",
    "from census import Census # This is new...\n",
    "\n",
    "import geopandas as gpd # this is the main geopandas \n",
    "from shapely.geometry import Point, Polygon # also needed\n",
    "\n",
    "import pyarrow as pa\n",
    "import pyarrow.parquet as pq"
   ]
  },
  {
   "cell_type": "markdown",
   "metadata": {},
   "source": [
    "---\n",
    "\n",
    "###  Get US County and State, Shapefiles\n",
    "\n",
    "The next couple of cells download the requisite shapefiles from the US census. They are unzipped in a folder called shapefiles and then county. So they are assuming some structure behind your folder setup. "
   ]
  },
  {
   "cell_type": "code",
   "execution_count": 2,
   "metadata": {},
   "outputs": [
    {
     "name": "stdout",
     "output_type": "stream",
     "text": [
      "\n",
      "**********************************************************************************\n",
      "Downloading Shape files\n",
      "\n"
     ]
    }
   ],
   "source": [
    "print(\"\")\n",
    "print(\"**********************************************************************************\")\n",
    "print(\"Downloading Shape files\")\n",
    "print(\"\")\n",
    "\n",
    "cwd = os.getcwd()\n",
    "\n",
    "county_url = \"https://www2.census.gov/geo/tiger/TIGER2017/COUNTY/tl_2017_us_county.zip\"\n",
    "    \n",
    "r = requests.get(county_url ) \n",
    "\n",
    "county_shapefile = zf.ZipFile(io.BytesIO(r.content)) \n",
    "\n",
    "county_shapefile.extractall(path = cwd + \"\\\\shapefiles\\\\county\")\n",
    "\n",
    "del r, county_shapefile"
   ]
  },
  {
   "cell_type": "code",
   "execution_count": 3,
   "metadata": {},
   "outputs": [
    {
     "name": "stdout",
     "output_type": "stream",
     "text": [
      "\n",
      "**********************************************************************************\n",
      "Downloading Shape files\n",
      "\n"
     ]
    }
   ],
   "source": [
    "print(\"\")\n",
    "print(\"**********************************************************************************\")\n",
    "print(\"Downloading Shape files\")\n",
    "print(\"\")\n",
    "\n",
    "state_url = \"https://www2.census.gov/geo/tiger/TIGER2017/STATE/tl_2017_us_state.zip\"\n",
    "    \n",
    "r = requests.get(state_url) \n",
    "\n",
    "state_shapefile = zf.ZipFile(io.BytesIO(r.content)) \n",
    "\n",
    "state_shapefile.extractall(path = cwd + \"\\\\shapefiles\\\\state\")\n",
    "\n",
    "del r, state_shapefile"
   ]
  },
  {
   "cell_type": "markdown",
   "metadata": {},
   "source": [
    "This will fix the great lakes issue. I found a shapefile with lakes of the world"
   ]
  },
  {
   "cell_type": "code",
   "execution_count": 4,
   "metadata": {},
   "outputs": [
    {
     "name": "stdout",
     "output_type": "stream",
     "text": [
      "\n",
      "**********************************************************************************\n",
      "Downloading Shape files\n",
      "\n"
     ]
    }
   ],
   "source": [
    "print(\"\")\n",
    "print(\"**********************************************************************************\")\n",
    "print(\"Downloading Shape files\")\n",
    "print(\"\")\n",
    "\n",
    "cwd = os.getcwd()\n",
    "\n",
    "county_url = \"https://www.naturalearthdata.com/http//www.naturalearthdata.com/download/10m/physical/ne_10m_lakes.zip\"\n",
    "    \n",
    "r = requests.get(county_url ) \n",
    "\n",
    "lake_shapefile = zf.ZipFile(io.BytesIO(r.content)) \n",
    "\n",
    "lake_shapefile.extractall(path = cwd + \"\\\\shapefiles\\\\lake\")\n",
    "\n",
    "del r, lake_shapefile"
   ]
  },
  {
   "cell_type": "code",
   "execution_count": 5,
   "metadata": {},
   "outputs": [
    {
     "name": "stdout",
     "output_type": "stream",
     "text": [
      "\n",
      "**********************************************************************************\n",
      "Downloading Shape files\n",
      "\n"
     ]
    }
   ],
   "source": [
    "print(\"\")\n",
    "print(\"**********************************************************************************\")\n",
    "print(\"Downloading Shape files\")\n",
    "print(\"\")\n",
    "\n",
    "cwd = os.getcwd()\n",
    "\n",
    "county_url = \"https://www.naturalearthdata.com/http//www.naturalearthdata.com/download/50m/physical/ne_50m_land.zip\"\n",
    "    \n",
    "r = requests.get(county_url ) \n",
    "\n",
    "land_shapefile = zf.ZipFile(io.BytesIO(r.content)) \n",
    "\n",
    "land_shapefile.extractall(path = cwd + \"\\\\shapefiles\\\\land\")\n",
    "\n",
    "del r, land_shapefile"
   ]
  }
 ],
 "metadata": {
  "kernelspec": {
   "display_name": "Python 3",
   "language": "python",
   "name": "python3"
  },
  "language_info": {
   "codemirror_mode": {
    "name": "ipython",
    "version": 3
   },
   "file_extension": ".py",
   "mimetype": "text/x-python",
   "name": "python",
   "nbconvert_exporter": "python",
   "pygments_lexer": "ipython3",
   "version": "3.7.3"
  }
 },
 "nbformat": 4,
 "nbformat_minor": 4
}
