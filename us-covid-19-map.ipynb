{
 "cells": [
  {
   "cell_type": "code",
   "execution_count": 223,
   "metadata": {},
   "outputs": [],
   "source": [
    "import pandas as pd             # data package\n",
    "import matplotlib.pyplot as plt # graphics \n",
    "import datetime as dt\n",
    "import numpy as np\n",
    "\n",
    "# these are new \n",
    "import requests, io             # internet and input tools  \n",
    "import zipfile as zf            # zip file tools \n",
    "import shutil                   # file management tools \n",
    "import os                       # operating system tools (check files)\n",
    "\n",
    "import geopandas as gpd # this is the main geopandas \n",
    "from shapely.geometry import Point, Polygon # also needed\n",
    "\n",
    "import pyarrow as pa\n",
    "import pyarrow.parquet as pq\n",
    "\n",
    "##########################\n",
    "# Then this stuff below allows us to make a nice inset\n",
    "\n",
    "\n",
    "from mpl_toolkits.axes_grid1.inset_locator import zoomed_inset_axes\n",
    "from mpl_toolkits.axes_grid1.inset_locator import mark_inset"
   ]
  },
  {
   "cell_type": "markdown",
   "metadata": {},
   "source": [
    "### Grab data from NYTimes\n",
    "\n",
    "Thank you for organizing this. It's very simple...\n",
    "\n",
    "- **To DO** fix the counties around NYC"
   ]
  },
  {
   "cell_type": "code",
   "execution_count": 224,
   "metadata": {},
   "outputs": [],
   "source": [
    "df = pd.read_csv(\"https://github.com/nytimes/covid-19-data/raw/master/us-counties.csv\")"
   ]
  },
  {
   "cell_type": "code",
   "execution_count": 225,
   "metadata": {},
   "outputs": [],
   "source": [
    "nyc = df.county == \"New York City\"\n",
    "df.loc[nyc,\"fips\"] = 36061"
   ]
  },
  {
   "cell_type": "code",
   "execution_count": 226,
   "metadata": {},
   "outputs": [],
   "source": [
    "df[\"date\"] = pd.to_datetime(df[\"date\"], format = \"%Y-%m-%d\")"
   ]
  },
  {
   "cell_type": "code",
   "execution_count": 227,
   "metadata": {},
   "outputs": [],
   "source": [
    "latest_date = df.date.max()"
   ]
  },
  {
   "cell_type": "code",
   "execution_count": 228,
   "metadata": {},
   "outputs": [],
   "source": [
    "latest_date = latest_date.strftime(\"%m/%d/%Y\")"
   ]
  },
  {
   "cell_type": "code",
   "execution_count": 229,
   "metadata": {},
   "outputs": [
    {
     "data": {
      "text/plain": [
       "'03/25/2020'"
      ]
     },
     "execution_count": 229,
     "metadata": {},
     "output_type": "execute_result"
    }
   ],
   "source": [
    "latest_date"
   ]
  },
  {
   "cell_type": "code",
   "execution_count": 230,
   "metadata": {},
   "outputs": [],
   "source": [
    "grp = df.groupby(\"fips\")\n",
    "\n",
    "dfall = grp.agg({\"cases\":\"sum\", \"county\": \"first\",\"state\":\"first\"})"
   ]
  },
  {
   "cell_type": "code",
   "execution_count": 231,
   "metadata": {},
   "outputs": [
    {
     "data": {
      "text/html": [
       "<div>\n",
       "<style scoped>\n",
       "    .dataframe tbody tr th:only-of-type {\n",
       "        vertical-align: middle;\n",
       "    }\n",
       "\n",
       "    .dataframe tbody tr th {\n",
       "        vertical-align: top;\n",
       "    }\n",
       "\n",
       "    .dataframe thead th {\n",
       "        text-align: right;\n",
       "    }\n",
       "</style>\n",
       "<table border=\"1\" class=\"dataframe\">\n",
       "  <thead>\n",
       "    <tr style=\"text-align: right;\">\n",
       "      <th></th>\n",
       "      <th>cases</th>\n",
       "      <th>county</th>\n",
       "      <th>state</th>\n",
       "    </tr>\n",
       "    <tr>\n",
       "      <th>fips</th>\n",
       "      <th></th>\n",
       "      <th></th>\n",
       "      <th></th>\n",
       "    </tr>\n",
       "  </thead>\n",
       "  <tbody>\n",
       "    <tr>\n",
       "      <td>36061.0</td>\n",
       "      <td>72801</td>\n",
       "      <td>New York City</td>\n",
       "      <td>New York</td>\n",
       "    </tr>\n",
       "  </tbody>\n",
       "</table>\n",
       "</div>"
      ],
      "text/plain": [
       "         cases         county     state\n",
       "fips                                   \n",
       "36061.0  72801  New York City  New York"
      ]
     },
     "execution_count": 231,
     "metadata": {},
     "output_type": "execute_result"
    }
   ],
   "source": [
    "dfall[dfall.county == \"New York City\"]"
   ]
  },
  {
   "cell_type": "code",
   "execution_count": 232,
   "metadata": {},
   "outputs": [
    {
     "data": {
      "text/plain": [
       "cases      int64\n",
       "county    object\n",
       "state     object\n",
       "dtype: object"
      ]
     },
     "execution_count": 232,
     "metadata": {},
     "output_type": "execute_result"
    }
   ],
   "source": [
    "dfall.dtypes"
   ]
  },
  {
   "cell_type": "markdown",
   "metadata": {},
   "source": [
    "###  Get Shapefiles\n",
    "\n",
    "The next couple of cells download the requisite shapefiles from the US census. They are unzipped in a folder called shapefiles and then county. So they are assuming some structure behind your folder setup. "
   ]
  },
  {
   "cell_type": "code",
   "execution_count": 233,
   "metadata": {},
   "outputs": [
    {
     "name": "stdout",
     "output_type": "stream",
     "text": [
      "\n",
      "**********************************************************************************\n",
      "Downloading Shape files\n",
      "\n"
     ]
    }
   ],
   "source": [
    "print(\"\")\n",
    "print(\"**********************************************************************************\")\n",
    "print(\"Downloading Shape files\")\n",
    "print(\"\")\n",
    "\n",
    "cwd = os.getcwd()\n",
    "\n",
    "county_url = \"https://www2.census.gov/geo/tiger/TIGER2017/COUNTY/tl_2017_us_county.zip\"\n",
    "    \n",
    "r = requests.get(county_url ) \n",
    "\n",
    "county_shapefile = zf.ZipFile(io.BytesIO(r.content)) \n",
    "\n",
    "county_shapefile.extractall(path = cwd + \"\\\\shapefiles\\\\county\")\n",
    "\n",
    "del r, county_shapefile"
   ]
  },
  {
   "cell_type": "code",
   "execution_count": 234,
   "metadata": {},
   "outputs": [],
   "source": [
    "state_url = \"https://www2.census.gov/geo/tiger/TIGER2017/STATE/tl_2017_us_state.zip\"\n",
    "    \n",
    "r = requests.get(state_url) \n",
    "\n",
    "state_shapefile = zf.ZipFile(io.BytesIO(r.content)) \n",
    "\n",
    "state_shapefile.extractall(path = cwd + \"\\\\shapefiles\\\\state\")\n",
    "\n",
    "del r, state_shapefile"
   ]
  },
  {
   "cell_type": "code",
   "execution_count": 235,
   "metadata": {},
   "outputs": [],
   "source": [
    "cwd = os.getcwd()\n",
    "\n",
    "county_shape = cwd + \"\\\\shapefiles\\\\county\\\\tl_2017_us_county.shx\"\n",
    "\n",
    "us_map = gpd.read_file(county_shape)\n",
    "\n",
    "us_map = us_map.to_crs({'init': 'epsg:3395'})"
   ]
  },
  {
   "cell_type": "code",
   "execution_count": null,
   "metadata": {},
   "outputs": [],
   "source": [
    "us_map[\"geometry\"] = us_map[\"geometry\"].simplify(200)\n",
    "# This was important. The geometry in the tigerline file si\n",
    "# too fine, orginal map was 350mb. simply basicly simplifies the geometry,\n",
    "# making the map take up less memory and load faster. Still not sure\n",
    "# what the number exactly means."
   ]
  },
  {
   "cell_type": "code",
   "execution_count": null,
   "metadata": {},
   "outputs": [],
   "source": [
    "us_map.head()"
   ]
  },
  {
   "cell_type": "code",
   "execution_count": null,
   "metadata": {},
   "outputs": [],
   "source": [
    "us_map[\"area_fips\"] = (us_map.STATEFP.astype(str) + us_map.COUNTYFP.astype(str)).astype(int)"
   ]
  },
  {
   "cell_type": "markdown",
   "metadata": {},
   "source": [
    "###  Merge and Plot\n",
    "\n",
    "The next couple of cells download the requisite shapefiles from the US census. They are unzipped in a folder called shapefiles and then county. So they are assuming some structure behind your folder setup. "
   ]
  },
  {
   "cell_type": "code",
   "execution_count": null,
   "metadata": {},
   "outputs": [],
   "source": [
    "us_map = us_map.merge(dfall, left_on='area_fips',\n",
    "                      right_on = \"fips\", how = \"left\", indicator = True)"
   ]
  },
  {
   "cell_type": "code",
   "execution_count": null,
   "metadata": {},
   "outputs": [],
   "source": [
    "us_map.head()"
   ]
  },
  {
   "cell_type": "code",
   "execution_count": null,
   "metadata": {},
   "outputs": [],
   "source": [
    "#us_map[[\"NAME\",\"NAMELSAD\",\"county\",\"state\", \"cases\"]].head(48)"
   ]
  },
  {
   "cell_type": "code",
   "execution_count": null,
   "metadata": {},
   "outputs": [],
   "source": [
    "us_map.set_index(\"STATEFP\", inplace = True)\n",
    "\n",
    "drop_list = [\"02\",\"15\",\"72\",\"78\",\"69\",\"66\",\"60\",]\n",
    "\n",
    "us_map.drop(drop_list, inplace = True)"
   ]
  },
  {
   "cell_type": "code",
   "execution_count": null,
   "metadata": {},
   "outputs": [],
   "source": [
    "state_shape = cwd + \"\\\\shapefiles\\\\state\\\\tl_2017_us_state.shx\"\n",
    "\n",
    "state_map = gpd.read_file(state_shape)\n",
    "\n",
    "state_map = state_map.to_crs({'init': 'epsg:3395'})\n",
    "\n",
    "state_map[\"geometry\"] = state_map[\"geometry\"].simplify(200)"
   ]
  },
  {
   "cell_type": "code",
   "execution_count": null,
   "metadata": {},
   "outputs": [],
   "source": [
    "state_fp_dict = dict(zip(state_map.STATEFP, state_map.STUSPS))"
   ]
  },
  {
   "cell_type": "code",
   "execution_count": null,
   "metadata": {},
   "outputs": [],
   "source": [
    "state_map.set_index(\"STATEFP\", inplace = True)\n",
    "\n",
    "drop_list = [\"02\",\"15\",\"72\",\"78\",\"69\",\"66\",\"60\",]\n",
    "\n",
    "state_map.drop(drop_list, inplace = True)"
   ]
  },
  {
   "cell_type": "code",
   "execution_count": null,
   "metadata": {},
   "outputs": [],
   "source": [
    "us_map.reset_index(inplace = True)"
   ]
  },
  {
   "cell_type": "code",
   "execution_count": null,
   "metadata": {},
   "outputs": [],
   "source": [
    "us_map[\"STSPS\"] = us_map[\"STATEFP\"].map(state_fp_dict)"
   ]
  },
  {
   "cell_type": "code",
   "execution_count": null,
   "metadata": {},
   "outputs": [],
   "source": [
    "us_map[\"NAME\"] = us_map[\"NAME\"] + \", \" + us_map[\"STSPS\"]"
   ]
  },
  {
   "cell_type": "code",
   "execution_count": null,
   "metadata": {},
   "outputs": [],
   "source": [
    "us_map.set_index(\"STATEFP\", inplace = True)"
   ]
  },
  {
   "cell_type": "code",
   "execution_count": null,
   "metadata": {},
   "outputs": [],
   "source": [
    "#us_map[\"cases\"].replace(\"nan\", np.nan, inplace = True)\n",
    "\n",
    "#us_map[\"cases\"] = us_map[\"cases\"].str.replace(',','')\n",
    "\n",
    "#us_map[\"cases\"] = us_map[\"cases\"].astype(int)\n",
    "\n",
    "us_map[\"cases_label\"] = us_map[\"cases\"].round(1)\n",
    "\n",
    "us_map[\"cases_label\"] = us_map[\"cases_label\"].map('{:,.0f}'.format)"
   ]
  },
  {
   "cell_type": "code",
   "execution_count": null,
   "metadata": {},
   "outputs": [],
   "source": [
    "us_map[\"q_tariff\"] = pd.qcut(us_map[\"cases\"], 10,labels = False, duplicates='drop')\n",
    "\n",
    "us_map.q_tariff.replace(np.nan,0,inplace = True)"
   ]
  },
  {
   "cell_type": "code",
   "execution_count": null,
   "metadata": {},
   "outputs": [],
   "source": [
    "from mpl_toolkits.axes_grid1 import make_axes_locatable\n",
    "\n",
    "fig, ax = plt.subplots(1,1,figsize = (12,8))\n",
    "\n",
    "plt.tight_layout()\n",
    "plt.rcParams.update(plt.rcParamsDefault) # This will reset defaluts...\n",
    "\n",
    "#################################################################################\n",
    "# This is for the colorbar...\n",
    "\n",
    "divider = make_axes_locatable(ax)\n",
    "\n",
    "cax = divider.append_axes(\"right\", size=\"3%\", pad=0.1)\n",
    "\n",
    "#################################################################################\n",
    "## This creates a discrete colorbar scheme...\n",
    "# https://gist.github.com/jakevdp/91077b0cae40f8f8244a\n",
    "\n",
    "N = 10\n",
    "\n",
    "base = plt.cm.get_cmap(\"RdBu_r\")\n",
    "\n",
    "color_list = base(np.linspace(0, 1, N))\n",
    "\n",
    "cmap_name = base.name + str(N)\n",
    "\n",
    "dcmap =  base.from_list(cmap_name, color_list, N)\n",
    "\n",
    "#################################################################################\n",
    "# This is the normal mapping...\n",
    "\n",
    "us_map.plot(column='q_tariff', ax = ax,\n",
    "              # THIS IS NEW, it says color it based on this column\n",
    "             cmap=dcmap, \n",
    "             alpha = 0.75,\n",
    "             vmin=0, vmax=us_map.q_tariff.max())\n",
    "\n",
    "#################################################################################\n",
    "# This then alows me to generate and edit the colorbar....\n",
    "# https://stackoverflow.com/questions/53158096/editing-colorbar-legend-in-geopandas\n",
    "\n",
    "sm = plt.cm.ScalarMappable(cmap=dcmap)\n",
    "sm._A = []\n",
    "cbr = fig.colorbar(sm, cax=cax)\n",
    "\n",
    "cbr.set_label('Percentile in Distribution of Covid Cases')\n",
    "cbr.set_alpha(0.15)\n",
    "\n",
    "cbr.set_ticks([0.10, 0.25,0.50,0.75, 0.90])\n",
    "cbr.set_ticklabels([\"10\",\"25\",\"50\",\"75\",\"90\"], update_ticks=True)\n",
    "\n",
    "#################################################################################\n",
    "\n",
    "state_map.geometry.boundary.plot(color=None, edgecolor='k', alpha = 0.35, ax = ax)\n",
    "\n",
    "#################################################################################\n",
    "# Then some final stuff to clean things up....\n",
    "\n",
    "ax.spines[\"right\"].set_visible(False)\n",
    "ax.spines[\"top\"].set_visible(False)\n",
    "ax.spines[\"left\"].set_visible(False)\n",
    "ax.spines[\"bottom\"].set_visible(False)\n",
    "\n",
    "ax.get_xaxis().set_visible(False)\n",
    "\n",
    "ax.get_yaxis().set_visible(False)\n",
    "\n",
    "title = \"Covid-19 Cases by County as of \" + latest_date\n",
    "ax.set_title(title, fontsize = 16, loc= \"left\" )\n",
    "\n",
    "plt.savefig(\"covid-19-map.png\", bbox_inches = \"tight\", dip = 1200)\n",
    "\n",
    "plt.show()"
   ]
  },
  {
   "cell_type": "code",
   "execution_count": null,
   "metadata": {},
   "outputs": [],
   "source": [
    "import json\n",
    "from bokeh.io import show\n",
    "from bokeh.models import (CDSView, ColorBar, ColumnDataSource,\n",
    "                          CustomJS, CustomJSFilter, \n",
    "                          GeoJSONDataSource, HoverTool,\n",
    "                          LinearColorMapper, Slider)\n",
    "from bokeh.layouts import column, row, widgetbox\n",
    "from bokeh.palettes import brewer\n",
    "from bokeh.plotting import figure\n",
    "from bokeh.models import Title\n",
    "\n",
    "from bokeh.plotting import figure, save\n",
    "\n",
    "from bokeh.resources import CDN\n",
    "from bokeh.embed import file_html\n",
    "\n",
    "# Input GeoJSON source that contains features for plotting\n",
    "#geosource = GeoJSONDataSource(geojson = us_map.to_json())"
   ]
  },
  {
   "cell_type": "code",
   "execution_count": null,
   "metadata": {},
   "outputs": [],
   "source": [
    "state_geosource = GeoJSONDataSource(geojson = state_map.to_json())\n",
    "\n",
    "geosource = GeoJSONDataSource(geojson = us_map.to_json())\n",
    "\n",
    "palette = brewer['RdBu'][10]\n",
    "\n",
    "#https://docs.bokeh.org/en/latest/docs/reference/palettes.html\n",
    "\n",
    "color_mapper = LinearColorMapper(palette = palette, low = 0, high = 10)\n",
    "\n",
    "tick_labels = {0:\"\",2:\"20\",4:\"40\",6:\"60\",8:\"80\",10:\"\"}\n",
    "\n",
    "color_bar = ColorBar(color_mapper = color_mapper, \n",
    "                     label_standoff = 8,\n",
    "                     width = 20, height = 420,\n",
    "                     border_line_color = None,\n",
    "                     orientation = \"vertical\",\n",
    "                     location=(0,0),major_label_overrides = tick_labels,\n",
    "                     major_tick_line_alpha = 0)\n",
    "\n",
    "label = 'Percentile in Distribution of Covid Cases'\n",
    "# Create figure object.\n",
    "p = figure( \n",
    "           plot_height = 530 ,\n",
    "           plot_width = 850, \n",
    "           toolbar_location = 'below',\n",
    "           tools = \"box_zoom, reset\")\n",
    "\n",
    "descip = \"Colorbar reports percentile in distribution of Cases; Hover tool reports county name, # of Covid-19 Cases.\"\n",
    "descip = descip + \"Data from https://github.com/nytimes/covid-19-data\"\n",
    "p.add_layout(Title(text=descip, text_font_style=\"italic\", text_font_size=\"9pt\"), 'above')\n",
    "p.add_layout(Title(text=title, text_font_size=\"11pt\"), 'above')\n",
    "\n",
    "p.xgrid.grid_line_color = None\n",
    "p.ygrid.grid_line_color = None\n",
    "# Add patch renderer to figure.\n",
    "\n",
    "states = p.patches('xs','ys', source = geosource,\n",
    "                   fill_color = {\"field\" :'q_tariff',\n",
    "                                 \"transform\" : color_mapper},\n",
    "                   line_color = \"gray\", \n",
    "                   line_width = 0.25, \n",
    "                   fill_alpha = 1)\n",
    "\n",
    "state_line = p.multi_line('xs','ys', source = state_geosource,\n",
    "                   line_color = \"black\", \n",
    "                   line_width = 0.5)\n",
    "# Create hover tool\n",
    "\n",
    "p.add_tools(HoverTool(renderers = [states],\n",
    "                      tooltips = [('County','@NAME'),\n",
    "                                ('Cases','@cases_label'),]))\n",
    "\n",
    "#### Some features to make it a bit nicer. \n",
    "\n",
    "p.axis.visible = False\n",
    "p.background_fill_color = \"grey\"\n",
    "p.background_fill_alpha = 0.25\n",
    "\n",
    "p.toolbar.autohide = True\n",
    "\n",
    "p.add_layout(color_bar, \"right\")\n",
    "\n",
    "## Send to doc file, create a webpage from doc file on github\n",
    "# then had weebly webiste point to that .html file. That's how\n",
    "# I got this to work.\n",
    "\n",
    "file_path = os.getcwd()\n",
    "\n",
    "doc_path = file_path +\"\\\\docs\"\n",
    "\n",
    "outfp = doc_path + \"\\\\us_covid_map.html\"\n",
    "\n",
    "# Save the map\n",
    "save(p, outfp)\n",
    "\n",
    "# Not sure if this is important, but seemed to start working once\n",
    "# I ran it\n",
    "html = file_html(p, CDN, outfp)"
   ]
  },
  {
   "cell_type": "code",
   "execution_count": null,
   "metadata": {},
   "outputs": [],
   "source": []
  }
 ],
 "metadata": {
  "kernelspec": {
   "display_name": "Python 3",
   "language": "python",
   "name": "python3"
  },
  "language_info": {
   "codemirror_mode": {
    "name": "ipython",
    "version": 3
   },
   "file_extension": ".py",
   "mimetype": "text/x-python",
   "name": "python",
   "nbconvert_exporter": "python",
   "pygments_lexer": "ipython3",
   "version": "3.7.3"
  }
 },
 "nbformat": 4,
 "nbformat_minor": 2
}
